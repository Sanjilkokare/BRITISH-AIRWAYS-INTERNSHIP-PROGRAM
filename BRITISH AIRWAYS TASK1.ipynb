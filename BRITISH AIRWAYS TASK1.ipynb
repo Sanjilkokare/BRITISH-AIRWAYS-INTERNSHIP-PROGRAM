{
 "cells": [
  {
   "cell_type": "markdown",
   "id": "1a8bce35",
   "metadata": {},
   "source": [
    "# Web scraping and analysis\n",
    "\n",
    "Scrape data from the web\n",
    "The first thing to do will be to scrape review data from the web. For this, you should use a website called Skytrax.\n",
    "\n"
   ]
  },
  {
   "cell_type": "markdown",
   "id": "9d089366",
   "metadata": {},
   "source": [
    "## Scraping data from Skytrax\n",
    " Navigate to this link https://www.airlinequality.com/airline-reviews/british-airways"
   ]
  },
  {
   "cell_type": "code",
   "execution_count": 1,
   "id": "83d9ab74",
   "metadata": {},
   "outputs": [],
   "source": [
    "from bs4 import BeautifulSoup\n",
    "import requests"
   ]
  },
  {
   "cell_type": "code",
   "execution_count": 2,
   "id": "86b2343d",
   "metadata": {},
   "outputs": [],
   "source": [
    "import pandas as pd\n",
    "import numpy as np\n",
    "import matplotlib.pyplot as plt\n",
    "import seaborn as sns\n",
    "import warnings\n",
    "warnings.filterwarnings(\"ignore\")\n",
    "import string\n",
    "\n",
    "\n"
   ]
  },
  {
   "cell_type": "code",
   "execution_count": 3,
   "id": "84c6eeae",
   "metadata": {},
   "outputs": [
    {
     "name": "stdout",
     "output_type": "stream",
     "text": [
      "Scraping page1\n",
      "   ---->100 total reviews\n",
      "Scraping page2\n",
      "   ---->200 total reviews\n",
      "Scraping page3\n",
      "   ---->300 total reviews\n",
      "Scraping page4\n",
      "   ---->400 total reviews\n",
      "Scraping page5\n",
      "   ---->500 total reviews\n",
      "Scraping page6\n",
      "   ---->600 total reviews\n",
      "Scraping page7\n",
      "   ---->700 total reviews\n",
      "Scraping page8\n",
      "   ---->800 total reviews\n",
      "Scraping page9\n",
      "   ---->900 total reviews\n",
      "Scraping page10\n",
      "   ---->1000 total reviews\n",
      "Scraping page11\n",
      "   ---->1100 total reviews\n",
      "Scraping page12\n",
      "   ---->1200 total reviews\n",
      "Scraping page13\n",
      "   ---->1300 total reviews\n",
      "Scraping page14\n",
      "   ---->1400 total reviews\n",
      "Scraping page15\n",
      "   ---->1500 total reviews\n",
      "Scraping page16\n",
      "   ---->1600 total reviews\n",
      "Scraping page17\n",
      "   ---->1700 total reviews\n",
      "Scraping page18\n",
      "   ---->1800 total reviews\n",
      "Scraping page19\n",
      "   ---->1900 total reviews\n",
      "Scraping page20\n",
      "   ---->2000 total reviews\n",
      "Scraping page21\n",
      "   ---->2100 total reviews\n",
      "Scraping page22\n",
      "   ---->2200 total reviews\n",
      "Scraping page23\n",
      "   ---->2300 total reviews\n",
      "Scraping page24\n",
      "   ---->2400 total reviews\n",
      "Scraping page25\n",
      "   ---->2500 total reviews\n",
      "Scraping page26\n",
      "   ---->2600 total reviews\n",
      "Scraping page27\n",
      "   ---->2700 total reviews\n",
      "Scraping page28\n",
      "   ---->2800 total reviews\n",
      "Scraping page29\n",
      "   ---->2900 total reviews\n",
      "Scraping page30\n",
      "   ---->3000 total reviews\n",
      "Scraping page31\n",
      "   ---->3100 total reviews\n",
      "Scraping page32\n",
      "   ---->3200 total reviews\n",
      "Scraping page33\n",
      "   ---->3300 total reviews\n",
      "Scraping page34\n",
      "   ---->3400 total reviews\n",
      "Scraping page35\n",
      "   ---->3500 total reviews\n",
      "Scraping page36\n",
      "   ---->3571 total reviews\n",
      "Scraping page37\n",
      "   ---->3571 total reviews\n",
      "Scraping page38\n",
      "   ---->3571 total reviews\n",
      "Scraping page39\n",
      "   ---->3571 total reviews\n",
      "Scraping page40\n",
      "   ---->3571 total reviews\n"
     ]
    }
   ],
   "source": [
    "base_url = \"https://www.airlinequality.com/airline-reviews/british-airways\"\n",
    "pages = 40\n",
    "page_size = 100\n",
    "reviews = []\n",
    "for i in range(1,pages + 1):\n",
    "    print(f\"Scraping page{i}\")\n",
    "    \n",
    "    url = f\"{base_url}/page{i}/?sortby=post_date%3ADesc&pagesize={page_size}\"\n",
    "    response = requests.get(url)\n",
    "    content = response.content\n",
    "    parsed_content = BeautifulSoup(content,\"html.parser\")\n",
    "    for para in parsed_content.find_all(\"div\",{\"class\":\"text_content\"}):\n",
    "        reviews.append(para.get_text())\n",
    "    \n",
    "    print(f\"   ---->{len(reviews)} total reviews\")\n",
    "        \n",
    "        "
   ]
  },
  {
   "cell_type": "code",
   "execution_count": 4,
   "id": "d5a1c2e1",
   "metadata": {},
   "outputs": [
    {
     "data": {
      "text/html": [
       "<div>\n",
       "<style scoped>\n",
       "    .dataframe tbody tr th:only-of-type {\n",
       "        vertical-align: middle;\n",
       "    }\n",
       "\n",
       "    .dataframe tbody tr th {\n",
       "        vertical-align: top;\n",
       "    }\n",
       "\n",
       "    .dataframe thead th {\n",
       "        text-align: right;\n",
       "    }\n",
       "</style>\n",
       "<table border=\"1\" class=\"dataframe\">\n",
       "  <thead>\n",
       "    <tr style=\"text-align: right;\">\n",
       "      <th></th>\n",
       "      <th>reviews</th>\n",
       "    </tr>\n",
       "  </thead>\n",
       "  <tbody>\n",
       "    <tr>\n",
       "      <th>0</th>\n",
       "      <td>✅ Trip Verified | Flight at 8.40am from DUB to...</td>\n",
       "    </tr>\n",
       "    <tr>\n",
       "      <th>1</th>\n",
       "      <td>✅ Trip Verified |  Terrible. I have traveled t...</td>\n",
       "    </tr>\n",
       "    <tr>\n",
       "      <th>2</th>\n",
       "      <td>✅ Trip Verified |  The customer service is ugl...</td>\n",
       "    </tr>\n",
       "    <tr>\n",
       "      <th>3</th>\n",
       "      <td>✅ Trip Verified |  Most uncomfortable flight I...</td>\n",
       "    </tr>\n",
       "    <tr>\n",
       "      <th>4</th>\n",
       "      <td>✅ Trip Verified |  I booked our first out of c...</td>\n",
       "    </tr>\n",
       "    <tr>\n",
       "      <th>...</th>\n",
       "      <td>...</td>\n",
       "    </tr>\n",
       "    <tr>\n",
       "      <th>3566</th>\n",
       "      <td>LHR-JFK-LAX-LHR. Check in was ok apart from be...</td>\n",
       "    </tr>\n",
       "    <tr>\n",
       "      <th>3567</th>\n",
       "      <td>LHR to HAM. Purser addresses all club passenge...</td>\n",
       "    </tr>\n",
       "    <tr>\n",
       "      <th>3568</th>\n",
       "      <td>My son who had worked for British Airways urge...</td>\n",
       "    </tr>\n",
       "    <tr>\n",
       "      <th>3569</th>\n",
       "      <td>London City-New York JFK via Shannon on A318 b...</td>\n",
       "    </tr>\n",
       "    <tr>\n",
       "      <th>3570</th>\n",
       "      <td>SIN-LHR BA12 B747-436 First Class. Old aircraf...</td>\n",
       "    </tr>\n",
       "  </tbody>\n",
       "</table>\n",
       "<p>3571 rows × 1 columns</p>\n",
       "</div>"
      ],
      "text/plain": [
       "                                                reviews\n",
       "0     ✅ Trip Verified | Flight at 8.40am from DUB to...\n",
       "1     ✅ Trip Verified |  Terrible. I have traveled t...\n",
       "2     ✅ Trip Verified |  The customer service is ugl...\n",
       "3     ✅ Trip Verified |  Most uncomfortable flight I...\n",
       "4     ✅ Trip Verified |  I booked our first out of c...\n",
       "...                                                 ...\n",
       "3566  LHR-JFK-LAX-LHR. Check in was ok apart from be...\n",
       "3567  LHR to HAM. Purser addresses all club passenge...\n",
       "3568  My son who had worked for British Airways urge...\n",
       "3569  London City-New York JFK via Shannon on A318 b...\n",
       "3570  SIN-LHR BA12 B747-436 First Class. Old aircraf...\n",
       "\n",
       "[3571 rows x 1 columns]"
      ]
     },
     "execution_count": 4,
     "metadata": {},
     "output_type": "execute_result"
    }
   ],
   "source": [
    "df = pd.DataFrame()\n",
    "df[\"reviews\"]=reviews\n",
    "df"
   ]
  },
  {
   "cell_type": "code",
   "execution_count": 5,
   "id": "dd3c9e6a",
   "metadata": {},
   "outputs": [],
   "source": [
    "df.to_csv(\"BRITISH AIRWAYS REVIEWS 2.csv\")"
   ]
  },
  {
   "cell_type": "code",
   "execution_count": 6,
   "id": "ad0f3501",
   "metadata": {},
   "outputs": [
    {
     "data": {
      "text/plain": [
       "0       ✅ Trip Verified | Flight at 8.40am from DUB to...\n",
       "1       ✅ Trip Verified |  Terrible. I have traveled t...\n",
       "2       ✅ Trip Verified |  The customer service is ugl...\n",
       "3       ✅ Trip Verified |  Most uncomfortable flight I...\n",
       "4       ✅ Trip Verified |  I booked our first out of c...\n",
       "                              ...                        \n",
       "3566    LHR-JFK-LAX-LHR. Check in was ok apart from be...\n",
       "3567    LHR to HAM. Purser addresses all club passenge...\n",
       "3568    My son who had worked for British Airways urge...\n",
       "3569    London City-New York JFK via Shannon on A318 b...\n",
       "3570    SIN-LHR BA12 B747-436 First Class. Old aircraf...\n",
       "Name: reviews, Length: 3571, dtype: object"
      ]
     },
     "execution_count": 6,
     "metadata": {},
     "output_type": "execute_result"
    }
   ],
   "source": [
    "df = pd.read_csv(\"BRITISH AIRWAYS REVIEWS.csv\")\n",
    "df = df.pop(\"reviews\")\n",
    "df"
   ]
  },
  {
   "cell_type": "code",
   "execution_count": 7,
   "id": "750bd1be",
   "metadata": {},
   "outputs": [],
   "source": [
    "def remove_punctuations(text):\n",
    "    for punctuation in string.punctuation:\n",
    "        text = text.replace(punctuation,\"\")\n",
    "        \n",
    "    return text"
   ]
  },
  {
   "cell_type": "code",
   "execution_count": 8,
   "id": "b12962d8",
   "metadata": {},
   "outputs": [],
   "source": [
    "df = df.str.replace(\"✅ Trip Verified |\",\"\")"
   ]
  },
  {
   "cell_type": "code",
   "execution_count": 9,
   "id": "e2052504",
   "metadata": {},
   "outputs": [
    {
     "data": {
      "text/plain": [
       "0        Flight at 840am from DUB to LCY cancelled 115...\n",
       "1         Terrible I have traveled twice with them thi...\n",
       "2         The customer service is ugly Tried calling t...\n",
       "3         Most uncomfortable flight I have ever experi...\n",
       "4         I booked our first out of country trip to ta...\n",
       "                              ...                        \n",
       "3566    LHRJFKLAXLHR Check in was ok apart from being ...\n",
       "3567    LHR to HAM Purser addresses all club passenger...\n",
       "3568    My son who had worked for British Airways urge...\n",
       "3569    London CityNew York JFK via Shannon on A318 bu...\n",
       "3570    SINLHR BA12 B747436 First Class Old aircraft 1...\n",
       "Name: reviews, Length: 3571, dtype: object"
      ]
     },
     "execution_count": 9,
     "metadata": {},
     "output_type": "execute_result"
    }
   ],
   "source": [
    "df = df.str.replace(\"|\",\"\")\n",
    "df = df.str.replace(r\"\\b(w(1,3))\\b\",\"\")\n",
    "df = df.apply(remove_punctuations)\n",
    "df"
   ]
  },
  {
   "cell_type": "code",
   "execution_count": 10,
   "id": "0deb54ab",
   "metadata": {},
   "outputs": [],
   "source": [
    "df = df.str.replace(\"✅\",\"\")"
   ]
  },
  {
   "cell_type": "code",
   "execution_count": 33,
   "id": "3a58eda2",
   "metadata": {},
   "outputs": [
    {
     "data": {
      "text/plain": [
       "'  Terrible I have traveled twice with them this year via business class and they have been significantly delayed or cancellations with connecting flights The customer service or complete lack of it is appalling and has forced me to change credit cards as I no longer intend to use BA for any further flights Terrible uncomfy old planes and miserable staff '"
      ]
     },
     "execution_count": 33,
     "metadata": {},
     "output_type": "execute_result"
    }
   ],
   "source": [
    "df[1]"
   ]
  },
  {
   "cell_type": "code",
   "execution_count": 12,
   "id": "2ecccfa5",
   "metadata": {},
   "outputs": [
    {
     "data": {
      "text/plain": [
       "(3571,)"
      ]
     },
     "execution_count": 12,
     "metadata": {},
     "output_type": "execute_result"
    }
   ],
   "source": [
    "df.shape"
   ]
  },
  {
   "cell_type": "code",
   "execution_count": 13,
   "id": "ff1c1f39",
   "metadata": {},
   "outputs": [],
   "source": [
    "freq_words = pd.Series(\" \".join(df).lower().split()).value_counts()[:50]"
   ]
  },
  {
   "cell_type": "code",
   "execution_count": 14,
   "id": "424c780a",
   "metadata": {},
   "outputs": [
    {
     "data": {
      "text/plain": [
       "the        28795\n",
       "to         19058\n",
       "and        17694\n",
       "a          13106\n",
       "was        12652\n",
       "i          10534\n",
       "of          8248\n",
       "in          8162\n",
       "on          7732\n",
       "flight      6326\n",
       "for         6083\n",
       "with        5725\n",
       "is          4542\n",
       "not         4522\n",
       "were        4360\n",
       "ba          4339\n",
       "it          4232\n",
       "that        4108\n",
       "we          4045\n",
       "my          4002\n",
       "but         3852\n",
       "at          3722\n",
       "this        3495\n",
       "had         3407\n",
       "they        3389\n",
       "as          3387\n",
       "have        3239\n",
       "from        2987\n",
       "no          2844\n",
       "very        2773\n",
       "service     2721\n",
       "seat        2320\n",
       "be          2302\n",
       "food        2301\n",
       "london      2119\n",
       "so          2113\n",
       "you         2112\n",
       "crew        2097\n",
       "british     2081\n",
       "airways     2064\n",
       "seats       2052\n",
       "good        2039\n",
       "are         2017\n",
       "an          1982\n",
       "time        1977\n",
       "cabin       1925\n",
       "me          1890\n",
       "which       1850\n",
       "class       1802\n",
       "there       1670\n",
       "dtype: int64"
      ]
     },
     "execution_count": 14,
     "metadata": {},
     "output_type": "execute_result"
    }
   ],
   "source": [
    "freq_words"
   ]
  },
  {
   "cell_type": "markdown",
   "id": "8cfe6f29",
   "metadata": {},
   "source": [
    "# Visualizing"
   ]
  },
  {
   "cell_type": "code",
   "execution_count": 15,
   "id": "f350ebc2",
   "metadata": {},
   "outputs": [
    {
     "data": {
      "image/png": "[encoded data removed]",
      "text/plain": [
       "<Figure size 1000x1000 with 1 Axes>"
      ]
     },
     "metadata": {},
     "output_type": "display_data"
    }
   ],
   "source": [
    "plt.figure(figsize=(10,10))\n",
    "freq_words.plot.barh(x=freq_words[0],y=freq_words[1])\n",
    "plt.show()"
   ]
  },
  {
   "cell_type": "code",
   "execution_count": 16,
   "id": "c0815f10",
   "metadata": {},
   "outputs": [
    {
     "data": {
      "text/plain": [
       "2"
      ]
     },
     "execution_count": 16,
     "metadata": {},
     "output_type": "execute_result"
    }
   ],
   "source": [
    "categories = [\"negative\",\"positive\"]\n",
    "numcat = len(categories)\n",
    "numcat"
   ]
  },
  {
   "cell_type": "code",
   "execution_count": 17,
   "id": "c2f4f708",
   "metadata": {},
   "outputs": [
    {
     "data": {
      "text/plain": [
       "(3571, 15078)"
      ]
     },
     "execution_count": 17,
     "metadata": {},
     "output_type": "execute_result"
    }
   ],
   "source": [
    "from sklearn.feature_extraction.text import TfidfVectorizer\n",
    "from nltk.tokenize import RegexpTokenizer\n",
    "\n",
    "\n",
    "tokenizer = RegexpTokenizer(r'\\w+')\n",
    "\n",
    "tf_vect = TfidfVectorizer(lowercase=True,stop_words=\"english\",ngram_range = (1,1),tokenizer=tokenizer.tokenize)\n",
    "\n",
    "reviews_count = tf_vect.fit_transform(df)\n",
    "\n",
    "reviews_count.shape"
   ]
  },
  {
   "cell_type": "code",
   "execution_count": 18,
   "id": "95ea905b",
   "metadata": {},
   "outputs": [
    {
     "data": {
      "text/plain": [
       "array([0, 0, 0, ..., 0, 1, 1])"
      ]
     },
     "execution_count": 18,
     "metadata": {},
     "output_type": "execute_result"
    }
   ],
   "source": [
    "from sklearn.cluster import KMeans\n",
    "kmeans = KMeans(n_clusters=numcat).fit(reviews_count)\n",
    "pred_labels = kmeans.labels_\n",
    "pred_labels"
   ]
  },
  {
   "cell_type": "code",
   "execution_count": 19,
   "id": "8e17b618",
   "metadata": {},
   "outputs": [
    {
     "data": {
      "text/plain": [
       "array([[3.23036970e-04, 0.00000000e+00, 0.00000000e+00, ...,\n",
       "        0.00000000e+00, 0.00000000e+00, 4.74955152e-05],\n",
       "       [3.11617727e-04, 6.82170827e-05, 6.29315864e-05, ...,\n",
       "        6.24727552e-05, 9.03739820e-05, 0.00000000e+00]])"
      ]
     },
     "execution_count": 19,
     "metadata": {},
     "output_type": "execute_result"
    }
   ],
   "source": [
    "cluster_centres = kmeans.cluster_centers_\n",
    "cluster_centres"
   ]
  },
  {
   "cell_type": "code",
   "execution_count": 20,
   "id": "16a6c3d2",
   "metadata": {},
   "outputs": [
    {
     "data": {
      "text/plain": [
       "{0: 1399, 1: 2172}"
      ]
     },
     "execution_count": 20,
     "metadata": {},
     "output_type": "execute_result"
    }
   ],
   "source": [
    "unique, counts = np.unique(pred_labels,return_counts = True)\n",
    "dict(zip(unique,counts))"
   ]
  },
  {
   "cell_type": "code",
   "execution_count": 21,
   "id": "eb819a40",
   "metadata": {},
   "outputs": [
    {
     "name": "stdout",
     "output_type": "stream",
     "text": [
      "DBI Score: 13.059937915769895 \n",
      "Silhouette_Score: 0.006047417208388837\n"
     ]
    }
   ],
   "source": [
    "from sklearn import metrics\n",
    "dbi = metrics.davies_bouldin_score(reviews_count.toarray(),pred_labels)\n",
    "ss = metrics.silhouette_score(reviews_count.toarray(),pred_labels, metric = \"euclidean\")\n",
    "print(\"DBI Score:\",dbi,\"\\nSilhouette_Score:\",ss)"
   ]
  },
  {
   "cell_type": "code",
   "execution_count": 25,
   "id": "552ee3fc",
   "metadata": {},
   "outputs": [
    {
     "data": {
      "text/plain": [
       "0        Flight at 840am from DUB to LCY cancelled 115...\n",
       "1         Terrible I have traveled twice with them thi...\n",
       "2         The customer service is ugly Tried calling t...\n",
       "3         Most uncomfortable flight I have ever experi...\n",
       "4         I booked our first out of country trip to ta...\n",
       "                              ...                        \n",
       "3566    LHRJFKLAXLHR Check in was ok apart from being ...\n",
       "3567    LHR to HAM Purser addresses all club passenger...\n",
       "3568    My son who had worked for British Airways urge...\n",
       "3569    London CityNew York JFK via Shannon on A318 bu...\n",
       "3570    SINLHR BA12 B747436 First Class Old aircraft 1...\n",
       "Name: reviews, Length: 3571, dtype: object"
      ]
     },
     "execution_count": 25,
     "metadata": {},
     "output_type": "execute_result"
    }
   ],
   "source": [
    "df"
   ]
  },
  {
   "cell_type": "code",
   "execution_count": 35,
   "id": "41f61ee8",
   "metadata": {},
   "outputs": [],
   "source": [
    "df = pd.DataFrame({\"review\":df,\"label\":pred_labels})"
   ]
  },
  {
   "cell_type": "code",
   "execution_count": 36,
   "id": "265266a4",
   "metadata": {},
   "outputs": [
    {
     "data": {
      "text/html": [
       "<div>\n",
       "<style scoped>\n",
       "    .dataframe tbody tr th:only-of-type {\n",
       "        vertical-align: middle;\n",
       "    }\n",
       "\n",
       "    .dataframe tbody tr th {\n",
       "        vertical-align: top;\n",
       "    }\n",
       "\n",
       "    .dataframe thead th {\n",
       "        text-align: right;\n",
       "    }\n",
       "</style>\n",
       "<table border=\"1\" class=\"dataframe\">\n",
       "  <thead>\n",
       "    <tr style=\"text-align: right;\">\n",
       "      <th></th>\n",
       "      <th>review</th>\n",
       "      <th>label</th>\n",
       "    </tr>\n",
       "  </thead>\n",
       "  <tbody>\n",
       "    <tr>\n",
       "      <th>0</th>\n",
       "      <td>Flight at 840am from DUB to LCY cancelled 115...</td>\n",
       "      <td>0</td>\n",
       "    </tr>\n",
       "    <tr>\n",
       "      <th>1</th>\n",
       "      <td>Terrible I have traveled twice with them thi...</td>\n",
       "      <td>0</td>\n",
       "    </tr>\n",
       "    <tr>\n",
       "      <th>2</th>\n",
       "      <td>The customer service is ugly Tried calling t...</td>\n",
       "      <td>0</td>\n",
       "    </tr>\n",
       "    <tr>\n",
       "      <th>3</th>\n",
       "      <td>Most uncomfortable flight I have ever experi...</td>\n",
       "      <td>1</td>\n",
       "    </tr>\n",
       "    <tr>\n",
       "      <th>4</th>\n",
       "      <td>I booked our first out of country trip to ta...</td>\n",
       "      <td>0</td>\n",
       "    </tr>\n",
       "    <tr>\n",
       "      <th>...</th>\n",
       "      <td>...</td>\n",
       "      <td>...</td>\n",
       "    </tr>\n",
       "    <tr>\n",
       "      <th>3566</th>\n",
       "      <td>LHRJFKLAXLHR Check in was ok apart from being ...</td>\n",
       "      <td>1</td>\n",
       "    </tr>\n",
       "    <tr>\n",
       "      <th>3567</th>\n",
       "      <td>LHR to HAM Purser addresses all club passenger...</td>\n",
       "      <td>1</td>\n",
       "    </tr>\n",
       "    <tr>\n",
       "      <th>3568</th>\n",
       "      <td>My son who had worked for British Airways urge...</td>\n",
       "      <td>0</td>\n",
       "    </tr>\n",
       "    <tr>\n",
       "      <th>3569</th>\n",
       "      <td>London CityNew York JFK via Shannon on A318 bu...</td>\n",
       "      <td>1</td>\n",
       "    </tr>\n",
       "    <tr>\n",
       "      <th>3570</th>\n",
       "      <td>SINLHR BA12 B747436 First Class Old aircraft 1...</td>\n",
       "      <td>1</td>\n",
       "    </tr>\n",
       "  </tbody>\n",
       "</table>\n",
       "<p>3571 rows × 2 columns</p>\n",
       "</div>"
      ],
      "text/plain": [
       "                                                 review  label\n",
       "0      Flight at 840am from DUB to LCY cancelled 115...      0\n",
       "1       Terrible I have traveled twice with them thi...      0\n",
       "2       The customer service is ugly Tried calling t...      0\n",
       "3       Most uncomfortable flight I have ever experi...      1\n",
       "4       I booked our first out of country trip to ta...      0\n",
       "...                                                 ...    ...\n",
       "3566  LHRJFKLAXLHR Check in was ok apart from being ...      1\n",
       "3567  LHR to HAM Purser addresses all club passenger...      1\n",
       "3568  My son who had worked for British Airways urge...      0\n",
       "3569  London CityNew York JFK via Shannon on A318 bu...      1\n",
       "3570  SINLHR BA12 B747436 First Class Old aircraft 1...      1\n",
       "\n",
       "[3571 rows x 2 columns]"
      ]
     },
     "execution_count": 36,
     "metadata": {},
     "output_type": "execute_result"
    }
   ],
   "source": [
    "df"
   ]
  },
  {
   "cell_type": "code",
   "execution_count": 37,
   "id": "f627b9ce",
   "metadata": {},
   "outputs": [
    {
     "data": {
      "text/plain": [
       "<AxesSubplot:xlabel='label', ylabel='Density'>"
      ]
     },
     "execution_count": 37,
     "metadata": {},
     "output_type": "execute_result"
    },
    {
     "data": {
      "image/png": "[encoded data removed]",
      "text/plain": [
       "<Figure size 640x480 with 1 Axes>"
      ]
     },
     "metadata": {},
     "output_type": "display_data"
    }
   ],
   "source": [
    "sns.distplot(df[\"label\"],kde=True)"
   ]
  },
  {
   "cell_type": "code",
   "execution_count": null,
   "id": "afc740c4",
   "metadata": {},
   "outputs": [],
   "source": []
  },
  {
   "cell_type": "code",
   "execution_count": 38,
   "id": "a9be3751",
   "metadata": {},
   "outputs": [],
   "source": [
    "positive_rev = df.groupby(\"label\").get_group(1)"
   ]
  },
  {
   "cell_type": "code",
   "execution_count": 39,
   "id": "145a1014",
   "metadata": {},
   "outputs": [
    {
     "data": {
      "text/html": [
       "<div>\n",
       "<style scoped>\n",
       "    .dataframe tbody tr th:only-of-type {\n",
       "        vertical-align: middle;\n",
       "    }\n",
       "\n",
       "    .dataframe tbody tr th {\n",
       "        vertical-align: top;\n",
       "    }\n",
       "\n",
       "    .dataframe thead th {\n",
       "        text-align: right;\n",
       "    }\n",
       "</style>\n",
       "<table border=\"1\" class=\"dataframe\">\n",
       "  <thead>\n",
       "    <tr style=\"text-align: right;\">\n",
       "      <th></th>\n",
       "      <th>review</th>\n",
       "      <th>label</th>\n",
       "    </tr>\n",
       "  </thead>\n",
       "  <tbody>\n",
       "    <tr>\n",
       "      <th>3</th>\n",
       "      <td>Most uncomfortable flight I have ever experi...</td>\n",
       "      <td>1</td>\n",
       "    </tr>\n",
       "    <tr>\n",
       "      <th>5</th>\n",
       "      <td>My husband and I booked seats within our prem...</td>\n",
       "      <td>1</td>\n",
       "    </tr>\n",
       "    <tr>\n",
       "      <th>8</th>\n",
       "      <td>An excellent flight in Club World on British ...</td>\n",
       "      <td>1</td>\n",
       "    </tr>\n",
       "    <tr>\n",
       "      <th>16</th>\n",
       "      <td>Busy day at LHR and flight full Lounge crowd...</td>\n",
       "      <td>1</td>\n",
       "    </tr>\n",
       "    <tr>\n",
       "      <th>17</th>\n",
       "      <td>Worst seats I have ever encountered in econom...</td>\n",
       "      <td>1</td>\n",
       "    </tr>\n",
       "    <tr>\n",
       "      <th>...</th>\n",
       "      <td>...</td>\n",
       "      <td>...</td>\n",
       "    </tr>\n",
       "    <tr>\n",
       "      <th>3564</th>\n",
       "      <td>LHRHKG on Boeing 747  230812 Much has been wri...</td>\n",
       "      <td>1</td>\n",
       "    </tr>\n",
       "    <tr>\n",
       "      <th>3566</th>\n",
       "      <td>LHRJFKLAXLHR Check in was ok apart from being ...</td>\n",
       "      <td>1</td>\n",
       "    </tr>\n",
       "    <tr>\n",
       "      <th>3567</th>\n",
       "      <td>LHR to HAM Purser addresses all club passenger...</td>\n",
       "      <td>1</td>\n",
       "    </tr>\n",
       "    <tr>\n",
       "      <th>3569</th>\n",
       "      <td>London CityNew York JFK via Shannon on A318 bu...</td>\n",
       "      <td>1</td>\n",
       "    </tr>\n",
       "    <tr>\n",
       "      <th>3570</th>\n",
       "      <td>SINLHR BA12 B747436 First Class Old aircraft 1...</td>\n",
       "      <td>1</td>\n",
       "    </tr>\n",
       "  </tbody>\n",
       "</table>\n",
       "<p>2172 rows × 2 columns</p>\n",
       "</div>"
      ],
      "text/plain": [
       "                                                 review  label\n",
       "3       Most uncomfortable flight I have ever experi...      1\n",
       "5      My husband and I booked seats within our prem...      1\n",
       "8      An excellent flight in Club World on British ...      1\n",
       "16      Busy day at LHR and flight full Lounge crowd...      1\n",
       "17     Worst seats I have ever encountered in econom...      1\n",
       "...                                                 ...    ...\n",
       "3564  LHRHKG on Boeing 747  230812 Much has been wri...      1\n",
       "3566  LHRJFKLAXLHR Check in was ok apart from being ...      1\n",
       "3567  LHR to HAM Purser addresses all club passenger...      1\n",
       "3569  London CityNew York JFK via Shannon on A318 bu...      1\n",
       "3570  SINLHR BA12 B747436 First Class Old aircraft 1...      1\n",
       "\n",
       "[2172 rows x 2 columns]"
      ]
     },
     "execution_count": 39,
     "metadata": {},
     "output_type": "execute_result"
    }
   ],
   "source": [
    "positive_rev"
   ]
  },
  {
   "cell_type": "code",
   "execution_count": 40,
   "id": "b40126b3",
   "metadata": {},
   "outputs": [],
   "source": [
    "negative_rev = df.groupby(\"label\").get_group(0)"
   ]
  },
  {
   "cell_type": "code",
   "execution_count": 41,
   "id": "d01c4a66",
   "metadata": {},
   "outputs": [
    {
     "data": {
      "text/html": [
       "<div>\n",
       "<style scoped>\n",
       "    .dataframe tbody tr th:only-of-type {\n",
       "        vertical-align: middle;\n",
       "    }\n",
       "\n",
       "    .dataframe tbody tr th {\n",
       "        vertical-align: top;\n",
       "    }\n",
       "\n",
       "    .dataframe thead th {\n",
       "        text-align: right;\n",
       "    }\n",
       "</style>\n",
       "<table border=\"1\" class=\"dataframe\">\n",
       "  <thead>\n",
       "    <tr style=\"text-align: right;\">\n",
       "      <th></th>\n",
       "      <th>review</th>\n",
       "      <th>label</th>\n",
       "    </tr>\n",
       "  </thead>\n",
       "  <tbody>\n",
       "    <tr>\n",
       "      <th>0</th>\n",
       "      <td>Flight at 840am from DUB to LCY cancelled 115...</td>\n",
       "      <td>0</td>\n",
       "    </tr>\n",
       "    <tr>\n",
       "      <th>1</th>\n",
       "      <td>Terrible I have traveled twice with them thi...</td>\n",
       "      <td>0</td>\n",
       "    </tr>\n",
       "    <tr>\n",
       "      <th>2</th>\n",
       "      <td>The customer service is ugly Tried calling t...</td>\n",
       "      <td>0</td>\n",
       "    </tr>\n",
       "    <tr>\n",
       "      <th>4</th>\n",
       "      <td>I booked our first out of country trip to ta...</td>\n",
       "      <td>0</td>\n",
       "    </tr>\n",
       "    <tr>\n",
       "      <th>6</th>\n",
       "      <td>Not Verified   May 3 flew from Seattle to Heat...</td>\n",
       "      <td>0</td>\n",
       "    </tr>\n",
       "    <tr>\n",
       "      <th>...</th>\n",
       "      <td>...</td>\n",
       "      <td>...</td>\n",
       "    </tr>\n",
       "    <tr>\n",
       "      <th>3545</th>\n",
       "      <td>Lanzarote to Gatwick on 13th April Flight itse...</td>\n",
       "      <td>0</td>\n",
       "    </tr>\n",
       "    <tr>\n",
       "      <th>3549</th>\n",
       "      <td>Im not normally one to whine but here goes LHR...</td>\n",
       "      <td>0</td>\n",
       "    </tr>\n",
       "    <tr>\n",
       "      <th>3563</th>\n",
       "      <td>This was a bmi Regional operated flight on a R...</td>\n",
       "      <td>0</td>\n",
       "    </tr>\n",
       "    <tr>\n",
       "      <th>3565</th>\n",
       "      <td>Just got back from Bridgetown Barbados flying ...</td>\n",
       "      <td>0</td>\n",
       "    </tr>\n",
       "    <tr>\n",
       "      <th>3568</th>\n",
       "      <td>My son who had worked for British Airways urge...</td>\n",
       "      <td>0</td>\n",
       "    </tr>\n",
       "  </tbody>\n",
       "</table>\n",
       "<p>1399 rows × 2 columns</p>\n",
       "</div>"
      ],
      "text/plain": [
       "                                                 review  label\n",
       "0      Flight at 840am from DUB to LCY cancelled 115...      0\n",
       "1       Terrible I have traveled twice with them thi...      0\n",
       "2       The customer service is ugly Tried calling t...      0\n",
       "4       I booked our first out of country trip to ta...      0\n",
       "6     Not Verified   May 3 flew from Seattle to Heat...      0\n",
       "...                                                 ...    ...\n",
       "3545  Lanzarote to Gatwick on 13th April Flight itse...      0\n",
       "3549  Im not normally one to whine but here goes LHR...      0\n",
       "3563  This was a bmi Regional operated flight on a R...      0\n",
       "3565  Just got back from Bridgetown Barbados flying ...      0\n",
       "3568  My son who had worked for British Airways urge...      0\n",
       "\n",
       "[1399 rows x 2 columns]"
      ]
     },
     "execution_count": 41,
     "metadata": {},
     "output_type": "execute_result"
    }
   ],
   "source": [
    "negative_rev"
   ]
  },
  {
   "cell_type": "code",
   "execution_count": 42,
   "id": "2ffa999c",
   "metadata": {},
   "outputs": [
    {
     "data": {
      "text/plain": [
       "(2172, 2)"
      ]
     },
     "execution_count": 42,
     "metadata": {},
     "output_type": "execute_result"
    }
   ],
   "source": [
    "positive_rev.shape"
   ]
  },
  {
   "cell_type": "code",
   "execution_count": 43,
   "id": "a713b46f",
   "metadata": {},
   "outputs": [
    {
     "data": {
      "text/plain": [
       "(1399, 2)"
      ]
     },
     "execution_count": 43,
     "metadata": {},
     "output_type": "execute_result"
    }
   ],
   "source": [
    "negative_rev.shape"
   ]
  },
  {
   "cell_type": "code",
   "execution_count": null,
   "id": "31113940",
   "metadata": {},
   "outputs": [],
   "source": []
  }
 ],
 "metadata": {
  "kernelspec": {
   "display_name": "Python 3 (ipykernel)",
   "language": "python",
   "name": "python3"
  },
  "language_info": {
   "codemirror_mode": {
    "name": "ipython",
    "version": 3
   },
   "file_extension": ".py",
   "mimetype": "text/x-python",
   "name": "python",
   "nbconvert_exporter": "python",
   "pygments_lexer": "ipython3",
   "version": "3.9.13"
  }
 },
 "nbformat": 4,
 "nbformat_minor": 5
}
